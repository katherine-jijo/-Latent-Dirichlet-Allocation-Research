{
  "nbformat": 4,
  "nbformat_minor": 0,
  "metadata": {
    "colab": {
      "provenance": []
    },
    "kernelspec": {
      "name": "python3",
      "display_name": "Python 3"
    },
    "language_info": {
      "name": "python"
    }
  },
  "cells": [
    {
      "cell_type": "markdown",
      "source": [
        "\n",
        "\n",
        "\n",
        "The code performs MeSH (Medical Subject Headings) lookup for a given set of terms under specific topics.\n",
        "\n",
        "The 'get_mesh_descriptors' function performs API calls to retrieve MeSH descriptors based on labels and stores the results in a dictionary.\n",
        "\n",
        "---\n",
        "\n",
        "MeSH, a controlled vocabulary thesaurus curated by the National Library of Medicine, serves as a comprehensive repository of standardized terms used in biomedical literature\n",
        "\n",
        "\n"
      ],
      "metadata": {
        "id": "HdnATfaf5qCl"
      }
    },
    {
      "cell_type": "code",
      "source": [
        "import requests\n",
        "import pandas as pd\n",
        "\n",
        "# Function to perform MeSH lookup based on label\n",
        "def get_mesh_descriptors(label):\n",
        "    url = \"https://id.nlm.nih.gov/mesh/lookup/descriptor\"\n",
        "    params = {\n",
        "        'label': label,\n",
        "        'match': 'contains',\n",
        "        'year': 'current',\n",
        "        'limit': 10  # Number of results to return\n",
        "    }\n",
        "    headers = {\n",
        "        'accept': 'application/json'\n",
        "    }\n",
        "\n",
        "    response = requests.get(url, params=params, headers=headers)\n",
        "\n",
        "    if response.status_code == 200:\n",
        "        return response.json()\n",
        "    else:\n",
        "        print(\"Error:\", response.status_code)\n",
        "        return None\n",
        "\n",
        "# Sample topics and associated terms\n",
        "topics_terms = {\n",
        "    9: ['laparoscopic', 'endometriosis', 'myeloma', 'fetoprotein', 'Laparoscopy', 'Endometriosis']\n",
        "}\n",
        "\n",
        "# Create a dictionary to store MeSH results for each topic\n",
        "topic_mesh_matrix = {}\n",
        "\n",
        "# Iterate through topics and their associated terms\n",
        "for topic, terms in topics_terms.items():\n",
        "    mesh_terms = {}\n",
        "    # For each term in the topic, get MeSH descriptors\n",
        "    for term in terms:\n",
        "        results = get_mesh_descriptors(term)\n",
        "        mesh_terms[term] = results if results else []  # Store MeSH results for the term\n",
        "\n",
        "    topic_mesh_matrix[topic] = mesh_terms  # Store MeSH results for the topic\n",
        "\n",
        "\n",
        "# Display the result in dictionary\n",
        "print(topic_mesh_matrix)\n",
        "\n",
        "\n",
        "\n",
        "# Convert dictionary into a Pandas DataFrame\n",
        "data = []\n",
        "for topic, terms in topic_mesh_matrix.items():\n",
        "    for term, descriptors in terms.items():\n",
        "        for descriptor in descriptors:\n",
        "            data.append([topic, term, descriptor['label'], descriptor['resource']])\n",
        "\n",
        "columns = ['Topic', 'Term', 'MeSH Descriptor Label', 'MeSH Descriptor Resource, ']\n",
        "df = pd.DataFrame(data, columns=columns)\n",
        "\n",
        "# Display the DataFrame\n",
        "print('term matrix')\n",
        "print(df)"
      ],
      "metadata": {
        "colab": {
          "base_uri": "https://localhost:8080/"
        },
        "id": "HSr9z_Oyqnym",
        "outputId": "fda4e931-289e-4003-b60a-0601523b1a98"
      },
      "execution_count": null,
      "outputs": [
        {
          "output_type": "stream",
          "name": "stdout",
          "text": [
            "{9: {'laparoscopic': [{'resource': 'http://id.nlm.nih.gov/mesh/D017081', 'label': 'Cholecystectomy, Laparoscopic'}], 'endometriosis': [{'resource': 'http://id.nlm.nih.gov/mesh/D004715', 'label': 'Endometriosis'}], 'myeloma': [{'resource': 'http://id.nlm.nih.gov/mesh/D009101', 'label': 'Multiple Myeloma'}, {'resource': 'http://id.nlm.nih.gov/mesh/D009194', 'label': 'Myeloma Proteins'}, {'resource': 'http://id.nlm.nih.gov/mesh/D000075122', 'label': 'Smoldering Multiple Myeloma'}], 'fetoprotein': [{'resource': 'http://id.nlm.nih.gov/mesh/D000509', 'label': 'alpha-Fetoproteins'}], 'Laparoscopy': [{'resource': 'http://id.nlm.nih.gov/mesh/D058733', 'label': 'Hand-Assisted Laparoscopy'}, {'resource': 'http://id.nlm.nih.gov/mesh/D010535', 'label': 'Laparoscopy'}], 'Endometriosis': [{'resource': 'http://id.nlm.nih.gov/mesh/D004715', 'label': 'Endometriosis'}]}}\n",
            "term matrix\n",
            "   Topic           Term          MeSH Descriptor Label  \\\n",
            "0      9   laparoscopic  Cholecystectomy, Laparoscopic   \n",
            "1      9  endometriosis                  Endometriosis   \n",
            "2      9        myeloma               Multiple Myeloma   \n",
            "3      9        myeloma               Myeloma Proteins   \n",
            "4      9        myeloma    Smoldering Multiple Myeloma   \n",
            "5      9    fetoprotein             alpha-Fetoproteins   \n",
            "6      9    Laparoscopy      Hand-Assisted Laparoscopy   \n",
            "7      9    Laparoscopy                    Laparoscopy   \n",
            "8      9  Endometriosis                  Endometriosis   \n",
            "\n",
            "              MeSH Descriptor Resource,   \n",
            "0     http://id.nlm.nih.gov/mesh/D017081  \n",
            "1     http://id.nlm.nih.gov/mesh/D004715  \n",
            "2     http://id.nlm.nih.gov/mesh/D009101  \n",
            "3     http://id.nlm.nih.gov/mesh/D009194  \n",
            "4  http://id.nlm.nih.gov/mesh/D000075122  \n",
            "5     http://id.nlm.nih.gov/mesh/D000509  \n",
            "6     http://id.nlm.nih.gov/mesh/D058733  \n",
            "7     http://id.nlm.nih.gov/mesh/D010535  \n",
            "8     http://id.nlm.nih.gov/mesh/D004715  \n"
          ]
        }
      ]
    },
    {
      "cell_type": "code",
      "source": [],
      "metadata": {
        "id": "SmUKtsLg7l-6"
      },
      "execution_count": null,
      "outputs": []
    }
  ]
}